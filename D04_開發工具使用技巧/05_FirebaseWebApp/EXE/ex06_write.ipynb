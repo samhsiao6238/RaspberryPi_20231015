{
 "cells": [
  {
   "cell_type": "markdown",
   "metadata": {},
   "source": [
    "安裝套件"
   ]
  },
  {
   "cell_type": "code",
   "execution_count": null,
   "metadata": {},
   "outputs": [],
   "source": [
    "%pip install firebase-admin"
   ]
  },
  {
   "cell_type": "markdown",
   "metadata": {},
   "source": [
    "腳本"
   ]
  },
  {
   "cell_type": "code",
   "execution_count": 8,
   "metadata": {},
   "outputs": [
    {
     "ename": "FileNotFoundError",
     "evalue": "[Errno 2] No such file or directory: 'vcgencmd'",
     "output_type": "error",
     "traceback": [
      "\u001b[0;31m---------------------------------------------------------------------------\u001b[0m",
      "\u001b[0;31mFileNotFoundError\u001b[0m                         Traceback (most recent call last)",
      "\u001b[1;32m/Users/samhsiao/Documents/00_Python課程專用/RaspberryPi_20231015/D04_Python 語法+硬體/6_FirebaseWebApp/EXE/ex06_write.ipynb 儲存格 4\u001b[0m line \u001b[0;36m2\n\u001b[1;32m     <a href='vscode-notebook-cell:/Users/samhsiao/Documents/00_Python%E8%AA%B2%E7%A8%8B%E5%B0%88%E7%94%A8/RaspberryPi_20231015/D04_Python%20%E8%AA%9E%E6%B3%95%2B%E7%A1%AC%E9%AB%94/6_FirebaseWebApp/EXE/ex06_write.ipynb#W0sZmlsZQ%3D%3D?line=24'>25</a>\u001b[0m \u001b[39m# 主循環\u001b[39;00m\n\u001b[1;32m     <a href='vscode-notebook-cell:/Users/samhsiao/Documents/00_Python%E8%AA%B2%E7%A8%8B%E5%B0%88%E7%94%A8/RaspberryPi_20231015/D04_Python%20%E8%AA%9E%E6%B3%95%2B%E7%A1%AC%E9%AB%94/6_FirebaseWebApp/EXE/ex06_write.ipynb#W0sZmlsZQ%3D%3D?line=25'>26</a>\u001b[0m \u001b[39mwhile\u001b[39;00m \u001b[39mTrue\u001b[39;00m:\n\u001b[1;32m     <a href='vscode-notebook-cell:/Users/samhsiao/Documents/00_Python%E8%AA%B2%E7%A8%8B%E5%B0%88%E7%94%A8/RaspberryPi_20231015/D04_Python%20%E8%AA%9E%E6%B3%95%2B%E7%A1%AC%E9%AB%94/6_FirebaseWebApp/EXE/ex06_write.ipynb#W0sZmlsZQ%3D%3D?line=26'>27</a>\u001b[0m     \u001b[39m# 取得溫度\u001b[39;00m\n\u001b[0;32m---> <a href='vscode-notebook-cell:/Users/samhsiao/Documents/00_Python%E8%AA%B2%E7%A8%8B%E5%B0%88%E7%94%A8/RaspberryPi_20231015/D04_Python%20%E8%AA%9E%E6%B3%95%2B%E7%A1%AC%E9%AB%94/6_FirebaseWebApp/EXE/ex06_write.ipynb#W0sZmlsZQ%3D%3D?line=27'>28</a>\u001b[0m     temp \u001b[39m=\u001b[39m get_pi_temperature()\n\u001b[1;32m     <a href='vscode-notebook-cell:/Users/samhsiao/Documents/00_Python%E8%AA%B2%E7%A8%8B%E5%B0%88%E7%94%A8/RaspberryPi_20231015/D04_Python%20%E8%AA%9E%E6%B3%95%2B%E7%A1%AC%E9%AB%94/6_FirebaseWebApp/EXE/ex06_write.ipynb#W0sZmlsZQ%3D%3D?line=28'>29</a>\u001b[0m     \u001b[39mprint\u001b[39m(\u001b[39mf\u001b[39m\u001b[39m\"\u001b[39m\u001b[39mCurrent temperature is: \u001b[39m\u001b[39m{\u001b[39;00mtemp\u001b[39m}\u001b[39;00m\u001b[39m C\u001b[39m\u001b[39m\"\u001b[39m)\n\u001b[1;32m     <a href='vscode-notebook-cell:/Users/samhsiao/Documents/00_Python%E8%AA%B2%E7%A8%8B%E5%B0%88%E7%94%A8/RaspberryPi_20231015/D04_Python%20%E8%AA%9E%E6%B3%95%2B%E7%A1%AC%E9%AB%94/6_FirebaseWebApp/EXE/ex06_write.ipynb#W0sZmlsZQ%3D%3D?line=30'>31</a>\u001b[0m     \u001b[39m# 將溫度寫入 Firebase\u001b[39;00m\n",
      "\u001b[1;32m/Users/samhsiao/Documents/00_Python課程專用/RaspberryPi_20231015/D04_Python 語法+硬體/6_FirebaseWebApp/EXE/ex06_write.ipynb 儲存格 4\u001b[0m line \u001b[0;36m1\n\u001b[1;32m     <a href='vscode-notebook-cell:/Users/samhsiao/Documents/00_Python%E8%AA%B2%E7%A8%8B%E5%B0%88%E7%94%A8/RaspberryPi_20231015/D04_Python%20%E8%AA%9E%E6%B3%95%2B%E7%A1%AC%E9%AB%94/6_FirebaseWebApp/EXE/ex06_write.ipynb#W0sZmlsZQ%3D%3D?line=15'>16</a>\u001b[0m \u001b[39mdef\u001b[39;00m \u001b[39mget_pi_temperature\u001b[39m():\n\u001b[1;32m     <a href='vscode-notebook-cell:/Users/samhsiao/Documents/00_Python%E8%AA%B2%E7%A8%8B%E5%B0%88%E7%94%A8/RaspberryPi_20231015/D04_Python%20%E8%AA%9E%E6%B3%95%2B%E7%A1%AC%E9%AB%94/6_FirebaseWebApp/EXE/ex06_write.ipynb#W0sZmlsZQ%3D%3D?line=16'>17</a>\u001b[0m     \u001b[39m# 執行命令並返回溫度\u001b[39;00m\n\u001b[0;32m---> <a href='vscode-notebook-cell:/Users/samhsiao/Documents/00_Python%E8%AA%B2%E7%A8%8B%E5%B0%88%E7%94%A8/RaspberryPi_20231015/D04_Python%20%E8%AA%9E%E6%B3%95%2B%E7%A1%AC%E9%AB%94/6_FirebaseWebApp/EXE/ex06_write.ipynb#W0sZmlsZQ%3D%3D?line=17'>18</a>\u001b[0m     temp_output \u001b[39m=\u001b[39m subprocess\u001b[39m.\u001b[39;49mcheck_output([\u001b[39m'\u001b[39;49m\u001b[39mvcgencmd\u001b[39;49m\u001b[39m'\u001b[39;49m, \u001b[39m'\u001b[39;49m\u001b[39mmeasure_temp\u001b[39;49m\u001b[39m'\u001b[39;49m])\u001b[39m.\u001b[39mdecode()\n\u001b[1;32m     <a href='vscode-notebook-cell:/Users/samhsiao/Documents/00_Python%E8%AA%B2%E7%A8%8B%E5%B0%88%E7%94%A8/RaspberryPi_20231015/D04_Python%20%E8%AA%9E%E6%B3%95%2B%E7%A1%AC%E9%AB%94/6_FirebaseWebApp/EXE/ex06_write.ipynb#W0sZmlsZQ%3D%3D?line=18'>19</a>\u001b[0m     temp \u001b[39m=\u001b[39m \u001b[39mfloat\u001b[39m(temp_output\u001b[39m.\u001b[39msplit(\u001b[39m'\u001b[39m\u001b[39m=\u001b[39m\u001b[39m'\u001b[39m)[\u001b[39m1\u001b[39m]\u001b[39m.\u001b[39msplit(\u001b[39m\"\u001b[39m\u001b[39m'\u001b[39m\u001b[39m\"\u001b[39m)[\u001b[39m0\u001b[39m])\n\u001b[1;32m     <a href='vscode-notebook-cell:/Users/samhsiao/Documents/00_Python%E8%AA%B2%E7%A8%8B%E5%B0%88%E7%94%A8/RaspberryPi_20231015/D04_Python%20%E8%AA%9E%E6%B3%95%2B%E7%A1%AC%E9%AB%94/6_FirebaseWebApp/EXE/ex06_write.ipynb#W0sZmlsZQ%3D%3D?line=19'>20</a>\u001b[0m     \u001b[39mreturn\u001b[39;00m temp\n",
      "File \u001b[0;32m/Library/Developer/CommandLineTools/Library/Frameworks/Python3.framework/Versions/3.9/lib/python3.9/subprocess.py:424\u001b[0m, in \u001b[0;36mcheck_output\u001b[0;34m(timeout, *popenargs, **kwargs)\u001b[0m\n\u001b[1;32m    421\u001b[0m         empty \u001b[39m=\u001b[39m \u001b[39mb\u001b[39m\u001b[39m'\u001b[39m\u001b[39m'\u001b[39m\n\u001b[1;32m    422\u001b[0m     kwargs[\u001b[39m'\u001b[39m\u001b[39minput\u001b[39m\u001b[39m'\u001b[39m] \u001b[39m=\u001b[39m empty\n\u001b[0;32m--> 424\u001b[0m \u001b[39mreturn\u001b[39;00m run(\u001b[39m*\u001b[39;49mpopenargs, stdout\u001b[39m=\u001b[39;49mPIPE, timeout\u001b[39m=\u001b[39;49mtimeout, check\u001b[39m=\u001b[39;49m\u001b[39mTrue\u001b[39;49;00m,\n\u001b[1;32m    425\u001b[0m            \u001b[39m*\u001b[39;49m\u001b[39m*\u001b[39;49mkwargs)\u001b[39m.\u001b[39mstdout\n",
      "File \u001b[0;32m/Library/Developer/CommandLineTools/Library/Frameworks/Python3.framework/Versions/3.9/lib/python3.9/subprocess.py:505\u001b[0m, in \u001b[0;36mrun\u001b[0;34m(input, capture_output, timeout, check, *popenargs, **kwargs)\u001b[0m\n\u001b[1;32m    502\u001b[0m     kwargs[\u001b[39m'\u001b[39m\u001b[39mstdout\u001b[39m\u001b[39m'\u001b[39m] \u001b[39m=\u001b[39m PIPE\n\u001b[1;32m    503\u001b[0m     kwargs[\u001b[39m'\u001b[39m\u001b[39mstderr\u001b[39m\u001b[39m'\u001b[39m] \u001b[39m=\u001b[39m PIPE\n\u001b[0;32m--> 505\u001b[0m \u001b[39mwith\u001b[39;00m Popen(\u001b[39m*\u001b[39;49mpopenargs, \u001b[39m*\u001b[39;49m\u001b[39m*\u001b[39;49mkwargs) \u001b[39mas\u001b[39;00m process:\n\u001b[1;32m    506\u001b[0m     \u001b[39mtry\u001b[39;00m:\n\u001b[1;32m    507\u001b[0m         stdout, stderr \u001b[39m=\u001b[39m process\u001b[39m.\u001b[39mcommunicate(\u001b[39minput\u001b[39m, timeout\u001b[39m=\u001b[39mtimeout)\n",
      "File \u001b[0;32m/Library/Developer/CommandLineTools/Library/Frameworks/Python3.framework/Versions/3.9/lib/python3.9/subprocess.py:951\u001b[0m, in \u001b[0;36mPopen.__init__\u001b[0;34m(self, args, bufsize, executable, stdin, stdout, stderr, preexec_fn, close_fds, shell, cwd, env, universal_newlines, startupinfo, creationflags, restore_signals, start_new_session, pass_fds, user, group, extra_groups, encoding, errors, text, umask)\u001b[0m\n\u001b[1;32m    947\u001b[0m         \u001b[39mif\u001b[39;00m \u001b[39mself\u001b[39m\u001b[39m.\u001b[39mtext_mode:\n\u001b[1;32m    948\u001b[0m             \u001b[39mself\u001b[39m\u001b[39m.\u001b[39mstderr \u001b[39m=\u001b[39m io\u001b[39m.\u001b[39mTextIOWrapper(\u001b[39mself\u001b[39m\u001b[39m.\u001b[39mstderr,\n\u001b[1;32m    949\u001b[0m                     encoding\u001b[39m=\u001b[39mencoding, errors\u001b[39m=\u001b[39merrors)\n\u001b[0;32m--> 951\u001b[0m     \u001b[39mself\u001b[39;49m\u001b[39m.\u001b[39;49m_execute_child(args, executable, preexec_fn, close_fds,\n\u001b[1;32m    952\u001b[0m                         pass_fds, cwd, env,\n\u001b[1;32m    953\u001b[0m                         startupinfo, creationflags, shell,\n\u001b[1;32m    954\u001b[0m                         p2cread, p2cwrite,\n\u001b[1;32m    955\u001b[0m                         c2pread, c2pwrite,\n\u001b[1;32m    956\u001b[0m                         errread, errwrite,\n\u001b[1;32m    957\u001b[0m                         restore_signals,\n\u001b[1;32m    958\u001b[0m                         gid, gids, uid, umask,\n\u001b[1;32m    959\u001b[0m                         start_new_session)\n\u001b[1;32m    960\u001b[0m \u001b[39mexcept\u001b[39;00m:\n\u001b[1;32m    961\u001b[0m     \u001b[39m# Cleanup if the child failed starting.\u001b[39;00m\n\u001b[1;32m    962\u001b[0m     \u001b[39mfor\u001b[39;00m f \u001b[39min\u001b[39;00m \u001b[39mfilter\u001b[39m(\u001b[39mNone\u001b[39;00m, (\u001b[39mself\u001b[39m\u001b[39m.\u001b[39mstdin, \u001b[39mself\u001b[39m\u001b[39m.\u001b[39mstdout, \u001b[39mself\u001b[39m\u001b[39m.\u001b[39mstderr)):\n",
      "File \u001b[0;32m/Library/Developer/CommandLineTools/Library/Frameworks/Python3.framework/Versions/3.9/lib/python3.9/subprocess.py:1821\u001b[0m, in \u001b[0;36mPopen._execute_child\u001b[0;34m(self, args, executable, preexec_fn, close_fds, pass_fds, cwd, env, startupinfo, creationflags, shell, p2cread, p2cwrite, c2pread, c2pwrite, errread, errwrite, restore_signals, gid, gids, uid, umask, start_new_session)\u001b[0m\n\u001b[1;32m   1819\u001b[0m     \u001b[39mif\u001b[39;00m errno_num \u001b[39m!=\u001b[39m \u001b[39m0\u001b[39m:\n\u001b[1;32m   1820\u001b[0m         err_msg \u001b[39m=\u001b[39m os\u001b[39m.\u001b[39mstrerror(errno_num)\n\u001b[0;32m-> 1821\u001b[0m     \u001b[39mraise\u001b[39;00m child_exception_type(errno_num, err_msg, err_filename)\n\u001b[1;32m   1822\u001b[0m \u001b[39mraise\u001b[39;00m child_exception_type(err_msg)\n",
      "\u001b[0;31mFileNotFoundError\u001b[0m: [Errno 2] No such file or directory: 'vcgencmd'"
     ]
    }
   ],
   "source": [
    "import time\n",
    "import subprocess\n",
    "import firebase_admin\n",
    "from firebase_admin import credentials\n",
    "from firebase_admin import db\n",
    "\n",
    "# 替換實際私鑰文件路徑\n",
    "cred = credentials.Certificate('../PrivateKey/<憑證.json>')\n",
    "\n",
    "# 初始化 Firebase Admin，使用資料庫 URL\n",
    "firebase_admin.initialize_app(cred, {\n",
    "    'databaseURL': '<資料庫 URL>'\n",
    "})\n",
    "\n",
    "# 樹莓派溫度讀取函數\n",
    "def get_pi_temperature():\n",
    "    # 執行命令並返回溫度\n",
    "    temp_output = subprocess.check_output(['vcgencmd', 'measure_temp']).decode()\n",
    "    temp = float(temp_output.split('=')[1].split(\"'\")[0])\n",
    "    return temp\n",
    "\n",
    "# Firebase 中溫度數據的節點\n",
    "temp_ref = db.reference('/raspberrypi/temperature')\n",
    "\n",
    "# 主循環\n",
    "while True:\n",
    "    # 取得溫度\n",
    "    temp = get_pi_temperature()\n",
    "    print(f\"Current temperature is: {temp} C\")\n",
    "    \n",
    "    # 將溫度寫入 Firebase\n",
    "    temp_ref.set({\n",
    "        'timestamp': time.time(),\n",
    "        'temperature': temp\n",
    "    })\n",
    "    \n",
    "    # 每隔 10 秒鐘檢查一次\n",
    "    time.sleep(10)\n"
   ]
  }
 ],
 "metadata": {
  "kernelspec": {
   "display_name": "Python 3",
   "language": "python",
   "name": "python3"
  },
  "language_info": {
   "codemirror_mode": {
    "name": "ipython",
    "version": 3
   },
   "file_extension": ".py",
   "mimetype": "text/x-python",
   "name": "python",
   "nbconvert_exporter": "python",
   "pygments_lexer": "ipython3",
   "version": "3.9.6"
  }
 },
 "nbformat": 4,
 "nbformat_minor": 2
}
