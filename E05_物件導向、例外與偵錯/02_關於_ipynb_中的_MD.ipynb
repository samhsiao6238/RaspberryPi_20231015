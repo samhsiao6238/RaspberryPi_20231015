{
 "cells": [
  {
   "cell_type": "markdown",
   "metadata": {},
   "source": [
    "<div style=\"color: red\">這在 .ipynb 的 .md 中顯示會是紅色文字。</div>\n",
    "\n",
    "<span style=\"color:red\">這在 .ipynb 的 .md 中顯示會是紅色文字。</span>\n"
   ]
  }
 ],
 "metadata": {
  "language_info": {
   "name": "python"
  },
  "orig_nbformat": 4
 },
 "nbformat": 4,
 "nbformat_minor": 2
}
