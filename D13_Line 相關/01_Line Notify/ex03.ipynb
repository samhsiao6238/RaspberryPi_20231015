{
 "cells": [
  {
   "cell_type": "markdown",
   "metadata": {},
   "source": [
    "生成 OAuth URL 並讓用戶授權"
   ]
  },
  {
   "cell_type": "code",
   "execution_count": 16,
   "metadata": {},
   "outputs": [
    {
     "name": "stdout",
     "output_type": "stream",
     "text": [
      "請在瀏覽器中訪問以下 URL 並授權應用：\n",
      "https://notify-bot.line.me/oauth/authorize?response_type=code&client_id=dw5hDPgMnas6Exyx7kPeEA&redirect_uri=https%3A%2F%2Ff32c-150-116-96-127.ngrok-free.app%2Fcallback&scope=notify&state=some_random_state_string&response_mode=form_post\n"
     ]
    }
   ],
   "source": [
    "import requests\n",
    "from urllib.parse import urlencode\n",
    "\n",
    "# 設置參數\n",
    "client_id = \"\"\n",
    "redirect_uri = \"https://f32c-150-116-96-127.ngrok-free.app/callback\"\n",
    "# 任意的隨機字符串，用於防止 CSRF 攻擊\n",
    "state = \"\"\n",
    "client_secret = \"\"\n",
    "\n",
    "# 生成 OAuth URL 的函數\n",
    "def generate_oauth_url(client_id, redirect_uri, state):\n",
    "    base_url = \"https://notify-bot.line.me/oauth/authorize\"\n",
    "    params = {\n",
    "        \"response_type\": \"code\",\n",
    "        # LINE Notify 客戶端 ID\n",
    "        \"client_id\": client_id,\n",
    "        # 回呼 URL\n",
    "        \"redirect_uri\": redirect_uri,\n",
    "        \"scope\": \"notify\",\n",
    "        \"state\": state,\n",
    "        \"response_mode\": \"form_post\"\n",
    "    }\n",
    "    return f\"{base_url}?{urlencode(params)}\"\n",
    "\n",
    "# 生成 OAuth URL\n",
    "oauth_url = generate_oauth_url(client_id, redirect_uri, state)\n",
    "#  輸出 URL\n",
    "print(\"請在瀏覽器中訪問以下 URL 並授權應用：\")\n",
    "print(oauth_url)\n"
   ]
  },
  {
   "cell_type": "markdown",
   "metadata": {},
   "source": [
    "驗證"
   ]
  },
  {
   "cell_type": "code",
   "execution_count": 17,
   "metadata": {},
   "outputs": [
    {
     "name": "stdout",
     "output_type": "stream",
     "text": [
      "403 Forbidden - 可能是授權問題或網址錯誤\n"
     ]
    }
   ],
   "source": [
    "import requests\n",
    "\n",
    "def check_ngrok_connection(ngrok_url):\n",
    "    try:\n",
    "        response = requests.get(ngrok_url)\n",
    "        if response.status_code == 200:\n",
    "            print(\"Ngrok 連接成功!\")\n",
    "        elif response.status_code == 403:\n",
    "            print(\"403 Forbidden - 可能是授權問題或網址錯誤\")\n",
    "        else:\n",
    "            print(f\"返回的狀態碼是: {response.status_code}\")\n",
    "    except requests.exceptions.RequestException as e:\n",
    "        print(f\"連接時發生錯誤: {e}\")\n",
    "\n",
    "# 輸入您的 ngrok URL\n",
    "ngrok_url = \"https://f32c-150-116-96-127.ngrok-free.app\"\n",
    "check_ngrok_connection(ngrok_url)\n"
   ]
  }
 ],
 "metadata": {
  "kernelspec": {
   "display_name": "envLCG",
   "language": "python",
   "name": "python3"
  },
  "language_info": {
   "codemirror_mode": {
    "name": "ipython",
    "version": 3
   },
   "file_extension": ".py",
   "mimetype": "text/x-python",
   "name": "python",
   "nbconvert_exporter": "python",
   "pygments_lexer": "ipython3",
   "version": "3.10.11"
  }
 },
 "nbformat": 4,
 "nbformat_minor": 2
}
